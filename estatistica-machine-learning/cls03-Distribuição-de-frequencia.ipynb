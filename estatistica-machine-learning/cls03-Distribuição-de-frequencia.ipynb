{
 "cells": [
  {
   "cell_type": "code",
   "execution_count": 12,
   "metadata": {},
   "outputs": [],
   "source": [
    "# Importação das bibliotecas para analise e manipluação de dados\n",
    "\n",
    "import pandas as pd                                                # Analise e tratamento de dados\n",
    "import numpy as np                                                 # Tratamento de dados numéricos\n",
    "import random                                                      # Gerador de números aleatórios\n",
    "import matplotlib.pyplot as plt                                    # Plotagem de gráficos\n",
    "import seaborn as sns                                              # Plotagem de gráficos\n",
    "import math                                                       # Operações matemáticas\n"
   ]
  },
  {
   "cell_type": "code",
   "execution_count": 13,
   "metadata": {},
   "outputs": [],
   "source": [
    "# criação dos dados\n",
    "\n",
    "dados = np.array([160, 165, 167, 164, 160, 166, 160, 161, 150, 152, 173, 160, 155,\n",
    "                  164, 168, 162, 161, 168, 163, 156, 155, 169, 151, 170, 164,\n",
    "                  155, 152, 163, 160, 155, 157, 156, 158, 158, 161, 154, 161, 156, 172, 153])"
   ]
  },
  {
   "cell_type": "code",
   "execution_count": 14,
   "metadata": {},
   "outputs": [],
   "source": [
    "# ordenação dos dados\n",
    "\n",
    "dados = np.sort(dados)"
   ]
  },
  {
   "cell_type": "code",
   "execution_count": 15,
   "metadata": {},
   "outputs": [
    {
     "name": "stdout",
     "output_type": "stream",
     "text": [
      "valor mínimo:  150 \n",
      "valor máximo:  173\n"
     ]
    }
   ],
   "source": [
    "# visualização dos valores minimos e máximo\n",
    "\n",
    "print('valor mínimo: ', dados.min(),'\\nvalor máximo: ', dados.max())"
   ]
  },
  {
   "cell_type": "code",
   "execution_count": 16,
   "metadata": {},
   "outputs": [
    {
     "data": {
      "text/plain": [
       "(array([150, 151, 152, 153, 154, 155, 156, 157, 158, 160, 161, 162, 163,\n",
       "        164, 165, 166, 167, 168, 169, 170, 172, 173]),\n",
       " array([1, 1, 2, 1, 1, 4, 3, 1, 2, 5, 4, 1, 2, 3, 1, 1, 1, 2, 1, 1, 1, 1],\n",
       "       dtype=int64))"
      ]
     },
     "execution_count": 16,
     "metadata": {},
     "output_type": "execute_result"
    }
   ],
   "source": [
    "# quantidade por valor\n",
    "\n",
    "np.unique(dados, return_counts=True)"
   ]
  },
  {
   "cell_type": "code",
   "execution_count": 17,
   "metadata": {},
   "outputs": [
    {
     "data": {
      "text/plain": [
       "array([150, 151, 152, 152, 153, 154, 155, 155, 155, 155, 156, 156, 156,\n",
       "       157, 158, 158, 160, 160, 160, 160, 160, 161, 161, 161, 161, 162,\n",
       "       163, 163, 164, 164, 164, 165, 166, 167, 168, 168, 169, 170, 172,\n",
       "       173])"
      ]
     },
     "execution_count": 17,
     "metadata": {},
     "output_type": "execute_result"
    }
   ],
   "source": [
    "dados"
   ]
  },
  {
   "cell_type": "code",
   "execution_count": 18,
   "metadata": {},
   "outputs": [
    {
     "data": {
      "image/png": "[encoded data removed]",
      "text/plain": [
       "<Figure size 432x288 with 1 Axes>"
      ]
     },
     "metadata": {
      "needs_background": "light"
     },
     "output_type": "display_data"
    }
   ],
   "source": [
    "plt.bar(dados, dados);"
   ]
  },
  {
   "cell_type": "code",
   "execution_count": 19,
   "metadata": {},
   "outputs": [
    {
     "data": {
      "text/plain": [
       "6.286797971382275"
      ]
     },
     "execution_count": 19,
     "metadata": {},
     "output_type": "execute_result"
    }
   ],
   "source": [
    "# definição das classes\n",
    "\n",
    "n = len(dados)                         # quantidade de dados\n",
    "i = 1 + 3.3 * np.log10(n)              # quantidade de classes pela formula de Sturges\n",
    "i"
   ]
  },
  {
   "cell_type": "code",
   "execution_count": 20,
   "metadata": {},
   "outputs": [
    {
     "data": {
      "text/plain": [
       "6"
      ]
     },
     "execution_count": 20,
     "metadata": {},
     "output_type": "execute_result"
    }
   ],
   "source": [
    "# valor arredondado para quantidade de classes\n",
    "\n",
    "i = round(i)                     # arredondamento\n",
    "i"
   ]
  },
  {
   "cell_type": "code",
   "execution_count": 21,
   "metadata": {},
   "outputs": [
    {
     "data": {
      "text/plain": [
       "4"
      ]
     },
     "execution_count": 21,
     "metadata": {},
     "output_type": "execute_result"
    }
   ],
   "source": [
    "# amplitude do intervalo\n",
    "# h = AA / i\n",
    "# AA = dados.max() - dados.min()\n",
    "\n",
    "# aplicação da formula para amplitude do intervalo\n",
    "AA = dados.max() - dados.min()\n",
    "h = AA / i\n",
    "h\n",
    "\n",
    "h = math.ceil(h)                                       # arredondamento sempre para cima\n",
    "h"
   ]
  },
  {
   "cell_type": "code",
   "execution_count": 22,
   "metadata": {},
   "outputs": [
    {
     "data": {
      "text/plain": [
       "array([150, 154, 158, 162, 166, 170, 174])"
      ]
     },
     "execution_count": 22,
     "metadata": {},
     "output_type": "execute_result"
    }
   ],
   "source": [
    "# contrução da tabela de frequência\n",
    "\n",
    "intervalos = np.arange(dados.min(), dados.max() + 2, step = h)  # metodo 'np.arange' cria as classes \n",
    "intervalos"
   ]
  },
  {
   "cell_type": "code",
   "execution_count": 23,
   "metadata": {},
   "outputs": [],
   "source": [
    "# criando as classes manualmente\n",
    "\n",
    "# definição dos intervalos e atribuindo o valor 0 a todos\n",
    "intervalo1, intervalo2, intervalo3, intervalo4, intervalo5, intervalo6 = 0,0,0,0,0,0\n",
    "\n",
    "# interação nos dados para colocar os valores nas classes\n",
    "for i in range(n):\n",
    "  if dados[i] >= intervalos[0] and dados[i] < intervalos[1]:\n",
    "    intervalo1 += 1\n",
    "\n",
    "  elif dados[i] >= intervalos[1] and dados[i] < intervalos[2]:\n",
    "    intervalo2 += 1\n",
    "\n",
    "  elif dados[i] >= intervalos[2] and dados[i] < intervalos[3]:\n",
    "    intervalo3 += 1\n",
    "\n",
    "  elif dados[i] >= intervalos[3] and dados[i] < intervalos[4]:\n",
    "    intervalo4 += 1\n",
    "\n",
    "  elif dados[i] >= intervalos[4] and dados[i] < intervalos[5]:\n",
    "    intervalo5 += 1\n",
    "\n",
    "  elif dados[i] >= intervalos[5] and dados[i] < intervalos[6]:\n",
    "    intervalo6 += 1\n"
   ]
  },
  {
   "cell_type": "code",
   "execution_count": 24,
   "metadata": {},
   "outputs": [
    {
     "data": {
      "text/plain": [
       "[5, 9, 11, 7, 5, 3]"
      ]
     },
     "execution_count": 24,
     "metadata": {},
     "output_type": "execute_result"
    }
   ],
   "source": [
    "# lista com a quantidade de dados por classe\n",
    "lista_intervalos = []\n",
    "\n",
    "# adicionando os valores nas classes\n",
    "lista_intervalos.append(intervalo1)\n",
    "lista_intervalos.append(intervalo2)\n",
    "lista_intervalos.append(intervalo3)\n",
    "lista_intervalos.append(intervalo4)\n",
    "lista_intervalos.append(intervalo5)\n",
    "lista_intervalos.append(intervalo6)\n",
    "\n",
    "# quantidade de elementos por classe\n",
    "lista_intervalos"
   ]
  },
  {
   "cell_type": "code",
   "execution_count": 27,
   "metadata": {},
   "outputs": [],
   "source": [
    "# lista com os valores da lista de intervalos\n",
    "lista_classes = []                                                       # quantidades de elementos por classe\n",
    "\n",
    "for i in range(len(lista_intervalos)):\n",
    "  lista_classes.append(str(intervalos[i]) + '-' + str(intervalos[i+1]))"
   ]
  },
  {
   "cell_type": "code",
   "execution_count": 28,
   "metadata": {},
   "outputs": [
    {
     "data": {
      "text/plain": [
       "['150-154', '154-158', '158-162', '162-166', '166-170', '170-174']"
      ]
     },
     "execution_count": 28,
     "metadata": {},
     "output_type": "execute_result"
    }
   ],
   "source": [
    "# visualização da tabela de frequência\n",
    "\n",
    "lista_classes                                               # classes"
   ]
  },
  {
   "cell_type": "code",
   "execution_count": 30,
   "metadata": {},
   "outputs": [
    {
     "data": {
      "image/png": "[encoded data removed]",
      "text/plain": [
       "<Figure size 432x288 with 1 Axes>"
      ]
     },
     "metadata": {
      "needs_background": "light"
     },
     "output_type": "display_data"
    }
   ],
   "source": [
    "# visualização da tabela de frequência\n",
    "\n",
    "plt.bar(lista_classes, lista_intervalos)\n",
    "plt.title('Distribuição de Frequência - Histograma')\n",
    "plt.xlabel('Intervalos')\n",
    "plt.ylabel('Valores')\n",
    "plt.show()"
   ]
  },
  {
   "cell_type": "code",
   "execution_count": null,
   "metadata": {},
   "outputs": [],
   "source": []
  }
 ],
 "metadata": {
  "interpreter": {
   "hash": "b3ba2566441a7c06988d0923437866b63cedc61552a5af99d1f4fb67d367b25f"
  },
  "kernelspec": {
   "display_name": "Python 3.8.8 ('base')",
   "language": "python",
   "name": "python3"
  },
  "language_info": {
   "codemirror_mode": {
    "name": "ipython",
    "version": 3
   },
   "file_extension": ".py",
   "mimetype": "text/x-python",
   "name": "python",
   "nbconvert_exporter": "python",
   "pygments_lexer": "ipython3",
   "version": "3.8.8"
  },
  "orig_nbformat": 4
 },
 "nbformat": 4,
 "nbformat_minor": 2
}
