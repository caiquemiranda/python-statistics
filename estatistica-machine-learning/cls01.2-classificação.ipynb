{
 "cells": [
  {
   "cell_type": "code",
   "execution_count": null,
   "metadata": {},
   "outputs": [],
   "source": [
    "# Importação das bibliotecas para analise de dados\n",
    "\n",
    "import pandas as pd                                                # Analise e tratamento de dados\n",
    "import numpy as np                                                 # Tratamento de dados numéricos\n",
    "import random                                                      # Gerador de números aleatórios\n",
    "import matplotlib.pyplot as plt                                    # Plotagem de gráficos"
   ]
  },
  {
   "cell_type": "code",
   "execution_count": null,
   "metadata": {},
   "outputs": [],
   "source": [
    "# Etapas :\n",
    "#        1. carregamento da base de dados\n",
    "#        2. base de treinamento\n",
    "#        3. classificação com naive bayes"
   ]
  },
  {
   "cell_type": "code",
   "execution_count": null,
   "metadata": {},
   "outputs": [],
   "source": [
    "# Carregamento da base de dados em uma variável\n",
    "\n",
    "dados = pd.read_csv('../data/credit_data.csv')\n",
    "# 'credit_data.csv' é um arquivo com alguns dados que possui informações sobre empréstimos (se o cliente pagará ou não pagará o empréstimo)"
   ]
  },
  {
   "cell_type": "code",
   "execution_count": null,
   "metadata": {},
   "outputs": [],
   "source": []
  },
  {
   "cell_type": "code",
   "execution_count": null,
   "metadata": {},
   "outputs": [],
   "source": []
  }
 ],
 "metadata": {
  "interpreter": {
   "hash": "b3ba2566441a7c06988d0923437866b63cedc61552a5af99d1f4fb67d367b25f"
  },
  "kernelspec": {
   "display_name": "Python 3.8.8 ('base')",
   "language": "python",
   "name": "python3"
  },
  "language_info": {
   "name": "python",
   "version": "3.8.8"
  },
  "orig_nbformat": 4
 },
 "nbformat": 4,
 "nbformat_minor": 2
}
