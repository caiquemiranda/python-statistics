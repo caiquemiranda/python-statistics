{
 "cells": [
  {
   "cell_type": "code",
   "execution_count": 61,
   "metadata": {},
   "outputs": [],
   "source": [
    "# O objetivo deste exercício é utilizar uma base de dados para testar as amostragens e comparar os resultados\n",
    "\n",
    "# carregue a base de dados credit_data.csv, que possui informações sobre empréstimos (se o cliente pagará ou não pagará o empréstimo)\n",
    "\n",
    "# Teste cada uma das técnicas de amostragem, selecionando 1000 registros\n",
    "\n",
    "# Para a amostragem estratificada, utilize o atributo 'c#default' para separar as categorias\n",
    "\n",
    "# No final, faça o comparativo da média utilizando os atributos 'age', 'income' e 'loan'"
   ]
  },
  {
   "cell_type": "code",
   "execution_count": 62,
   "metadata": {},
   "outputs": [],
   "source": [
    "# Importação das bibliotecas para analise de dados\n",
    "\n",
    "import pandas as pd                                                # Analise e tratamento de dados\n",
    "import numpy as np                                                 # Tratamento de dados numéricos\n",
    "import random                                                      # Gerador de números aleatórios\n",
    "import matplotlib.pyplot as plt                                    # Plotagem de gráficos\n",
    "from sklearn.model_selection import StratifiedShuffleSplit         # importação de um modulo para gerar amostras estratificadas"
   ]
  },
  {
   "cell_type": "code",
   "execution_count": 63,
   "metadata": {},
   "outputs": [],
   "source": [
    "# Carregamento da base de dados em uma variável\n",
    "\n",
    "dados = pd.read_csv('../data/credit_data.csv')\n",
    "# 'credit_data.csv' é um arquivo com alguns dados que possui informações sobre empréstimos (se o cliente pagará ou não pagará o empréstimo)"
   ]
  },
  {
   "cell_type": "code",
   "execution_count": 64,
   "metadata": {},
   "outputs": [
    {
     "data": {
      "text/plain": [
       "(2000, 5)"
      ]
     },
     "execution_count": 64,
     "metadata": {},
     "output_type": "execute_result"
    }
   ],
   "source": [
    "# Visualização da quantidade de registros\n",
    "\n",
    "dados.shape"
   ]
  },
  {
   "cell_type": "code",
   "execution_count": 65,
   "metadata": {},
   "outputs": [
    {
     "data": {
      "text/html": [
       "<div>\n",
       "<style scoped>\n",
       "    .dataframe tbody tr th:only-of-type {\n",
       "        vertical-align: middle;\n",
       "    }\n",
       "\n",
       "    .dataframe tbody tr th {\n",
       "        vertical-align: top;\n",
       "    }\n",
       "\n",
       "    .dataframe thead th {\n",
       "        text-align: right;\n",
       "    }\n",
       "</style>\n",
       "<table border=\"1\" class=\"dataframe\">\n",
       "  <thead>\n",
       "    <tr style=\"text-align: right;\">\n",
       "      <th></th>\n",
       "      <th>i#clientid</th>\n",
       "      <th>income</th>\n",
       "      <th>age</th>\n",
       "      <th>loan</th>\n",
       "      <th>c#default</th>\n",
       "    </tr>\n",
       "  </thead>\n",
       "  <tbody>\n",
       "    <tr>\n",
       "      <th>0</th>\n",
       "      <td>1</td>\n",
       "      <td>66155.925095</td>\n",
       "      <td>59.017015</td>\n",
       "      <td>8106.532131</td>\n",
       "      <td>0</td>\n",
       "    </tr>\n",
       "    <tr>\n",
       "      <th>1</th>\n",
       "      <td>2</td>\n",
       "      <td>34415.153966</td>\n",
       "      <td>48.117153</td>\n",
       "      <td>6564.745018</td>\n",
       "      <td>0</td>\n",
       "    </tr>\n",
       "    <tr>\n",
       "      <th>2</th>\n",
       "      <td>3</td>\n",
       "      <td>57317.170063</td>\n",
       "      <td>63.108049</td>\n",
       "      <td>8020.953296</td>\n",
       "      <td>0</td>\n",
       "    </tr>\n",
       "    <tr>\n",
       "      <th>3</th>\n",
       "      <td>4</td>\n",
       "      <td>42709.534201</td>\n",
       "      <td>45.751972</td>\n",
       "      <td>6103.642260</td>\n",
       "      <td>0</td>\n",
       "    </tr>\n",
       "    <tr>\n",
       "      <th>4</th>\n",
       "      <td>5</td>\n",
       "      <td>66952.688845</td>\n",
       "      <td>18.584336</td>\n",
       "      <td>8770.099235</td>\n",
       "      <td>1</td>\n",
       "    </tr>\n",
       "  </tbody>\n",
       "</table>\n",
       "</div>"
      ],
      "text/plain": [
       "   i#clientid        income        age         loan  c#default\n",
       "0           1  66155.925095  59.017015  8106.532131          0\n",
       "1           2  34415.153966  48.117153  6564.745018          0\n",
       "2           3  57317.170063  63.108049  8020.953296          0\n",
       "3           4  42709.534201  45.751972  6103.642260          0\n",
       "4           5  66952.688845  18.584336  8770.099235          1"
      ]
     },
     "execution_count": 65,
     "metadata": {},
     "output_type": "execute_result"
    }
   ],
   "source": [
    "# Visualização dos primeiros registros do dataframe\n",
    "\n",
    "dados.head()"
   ]
  },
  {
   "cell_type": "code",
   "execution_count": 66,
   "metadata": {},
   "outputs": [
    {
     "data": {
      "text/html": [
       "<div>\n",
       "<style scoped>\n",
       "    .dataframe tbody tr th:only-of-type {\n",
       "        vertical-align: middle;\n",
       "    }\n",
       "\n",
       "    .dataframe tbody tr th {\n",
       "        vertical-align: top;\n",
       "    }\n",
       "\n",
       "    .dataframe thead th {\n",
       "        text-align: right;\n",
       "    }\n",
       "</style>\n",
       "<table border=\"1\" class=\"dataframe\">\n",
       "  <thead>\n",
       "    <tr style=\"text-align: right;\">\n",
       "      <th></th>\n",
       "      <th>i#clientid</th>\n",
       "      <th>income</th>\n",
       "      <th>age</th>\n",
       "      <th>loan</th>\n",
       "      <th>c#default</th>\n",
       "    </tr>\n",
       "  </thead>\n",
       "  <tbody>\n",
       "    <tr>\n",
       "      <th>1995</th>\n",
       "      <td>1996</td>\n",
       "      <td>59221.044874</td>\n",
       "      <td>48.518179</td>\n",
       "      <td>1926.729397</td>\n",
       "      <td>0</td>\n",
       "    </tr>\n",
       "    <tr>\n",
       "      <th>1996</th>\n",
       "      <td>1997</td>\n",
       "      <td>69516.127573</td>\n",
       "      <td>23.162104</td>\n",
       "      <td>3503.176156</td>\n",
       "      <td>0</td>\n",
       "    </tr>\n",
       "    <tr>\n",
       "      <th>1997</th>\n",
       "      <td>1998</td>\n",
       "      <td>44311.449262</td>\n",
       "      <td>28.017167</td>\n",
       "      <td>5522.786693</td>\n",
       "      <td>1</td>\n",
       "    </tr>\n",
       "    <tr>\n",
       "      <th>1998</th>\n",
       "      <td>1999</td>\n",
       "      <td>43756.056605</td>\n",
       "      <td>63.971796</td>\n",
       "      <td>1622.722598</td>\n",
       "      <td>0</td>\n",
       "    </tr>\n",
       "    <tr>\n",
       "      <th>1999</th>\n",
       "      <td>2000</td>\n",
       "      <td>69436.579552</td>\n",
       "      <td>56.152617</td>\n",
       "      <td>7378.833599</td>\n",
       "      <td>0</td>\n",
       "    </tr>\n",
       "  </tbody>\n",
       "</table>\n",
       "</div>"
      ],
      "text/plain": [
       "      i#clientid        income        age         loan  c#default\n",
       "1995        1996  59221.044874  48.518179  1926.729397          0\n",
       "1996        1997  69516.127573  23.162104  3503.176156          0\n",
       "1997        1998  44311.449262  28.017167  5522.786693          1\n",
       "1998        1999  43756.056605  63.971796  1622.722598          0\n",
       "1999        2000  69436.579552  56.152617  7378.833599          0"
      ]
     },
     "execution_count": 66,
     "metadata": {},
     "output_type": "execute_result"
    }
   ],
   "source": [
    "# Visualização dos últimos registros do dataframe\n",
    "\n",
    "dados.tail()"
   ]
  },
  {
   "cell_type": "code",
   "execution_count": 67,
   "metadata": {},
   "outputs": [
    {
     "name": "stdout",
     "output_type": "stream",
     "text": [
      "Dados em % :\n",
      " 0    0.8585\n",
      "1    0.1415\n",
      "Name: c#default, dtype: float64\n"
     ]
    },
    {
     "data": {
      "image/png": "[encoded data removed]",
      "text/plain": [
       "<Figure size 432x288 with 1 Axes>"
      ]
     },
     "metadata": {
      "needs_background": "light"
     },
     "output_type": "display_data"
    }
   ],
   "source": [
    "# Visualização da variável 'c#default' graficamente e em percentual\n",
    "\n",
    "print('Dados em % :\\n', dados['c#default'].value_counts('1'))\n",
    "dados['c#default'].plot(kind='hist');"
   ]
  },
  {
   "cell_type": "code",
   "execution_count": 68,
   "metadata": {},
   "outputs": [],
   "source": [
    "# definindo as funções para retirar as amostras \n",
    "\n",
    "\n",
    "# função para gerar amostras sistemáticas com espaço de (quantidade de registros/ quantidade de amostras)\n",
    "def amostragem_sistematica(dados, amostras):\n",
    "    intervalo = len(dados) // amostras                                         # calcula o tamanho do intervalo\n",
    "    random.seed(1)                                                             # semente aleatória\n",
    "    inicio = random.randint(0, intervalo)                                      # sorteia um número aleatório entre 0 e o tamanho do intervalo   \n",
    "    indices = np.arange(inicio, len(dados), step = intervalo)                  # geração de números aleatórios que serão os índices dos registros\n",
    "    amostra_sistematica = dados.iloc[indices]                                  # seleção dos registros com base nos índices\n",
    "\n",
    "    return amostra_sistematica  \n",
    "\n",
    "\n",
    "# função para gerar amostras por grupos\n",
    "def amostragem_agrupamentos(dados, n_grupos):\n",
    "    intervalo = len(dados) // n_grupos                                         # calcula o tamanho do intervalo\n",
    "\n",
    "    grupos = []                                                                # lista vazia                      \n",
    "    id_grupo = 0                                                               # variavel auxiliar id do grupo\n",
    "    contagem = 0                                                               # variavel auxiliar contador de registros\n",
    "    for _ in dados.iterrows():                                                 # iteração sobre os registros da base de dados   \n",
    "        grupos.append(id_grupo)                                                # adiciona o id do grupo\n",
    "        contagem += 1                                                          # incrementa a contagem +1\n",
    "        if contagem > intervalo:                                               # se a contagem for maior que a divisão da quantidade de registros por 10\n",
    "            contagem = 0                                                       # zera a contagem para o próximo grupo\n",
    "            id_grupo += 1                                                      # incrementa o id do grupo +1\n",
    " \n",
    "    dados['grupo'] = grupos                                                    # adiciona o grupo ao dataframe\n",
    "    random.seed(1)                                                             # semente aleatória\n",
    "    grupo_selecionado = random.randint(0, n_grupos)                            # sorteia um número aleatório entre 0 e o número de grupos\n",
    "    return dados[dados['grupo'] == grupo_selecionado]                          # retorna os registros do grupo selecionado\n",
    "\n",
    "\n",
    "# função para gerar amostras estratificadas\n",
    "def amostragem_estratificada(dados, percentual):\n",
    "  split = StratifiedShuffleSplit(test_size=percentual, random_state=1)         # amostras estratificadas de 10% dos dados\n",
    "  for _, y in split.split(dados, dados['c#default']):                          # iteração sobre os dados para gerar as amostras\n",
    "    df_y = dados.iloc[y]                                                       # seleção dos registros df_y com a amostra estratificada de 50% dos dados\n",
    "  return df_y                                                                  # retorna os registros da amostra estratificada\n",
    "\n",
    "\n",
    "# função para gerar amostras de reservatório\n",
    "def amostragem_reservatorio(dados, amostras):\n",
    "    stream = []\n",
    "    for i in range(len(dados)):                                                # iteração sobre os registros da base de dados\n",
    "        stream.append(i)                                                       # adiciona um indice para cada registro\n",
    "    \n",
    "    i = 0                                                                      # variavel auxiliar para o indice\n",
    "    tamanho = len(stream)                                                      # variavel tamanho para ter a quantidade de registros\n",
    "\n",
    "    reservatorio = [0] * amostras                                              # onde serão armazenados os inidices dos registros sorteados\n",
    "    for i in range(amostras):                                                  # iteração para gerar os registros sorteados\n",
    "        reservatorio[i] = stream[i]                                            # adiciona os inidices dos registros sorteados\n",
    "                                            \n",
    "    while i < tamanho:                                                         # iteração para selecionar os registros \n",
    "        j = random.randrange(i + 1)                                            # sorteia um número aleatório entre i + 1\n",
    "        if j < amostras:\n",
    "            reservatorio[j] = stream[i]                                        # onde ficarão armazenados oa valores sorteados\n",
    "        i += 1                                                                 # incrementa o contador\n",
    "    \n",
    "    return dados.iloc[reservatorio]                                            # retorna os registros sorteados pelo algoritmo de amostragem de reservatório                                    "
   ]
  },
  {
   "cell_type": "code",
   "execution_count": 69,
   "metadata": {},
   "outputs": [
    {
     "data": {
      "text/plain": [
       "0.5"
      ]
     },
     "execution_count": 69,
     "metadata": {},
     "output_type": "execute_result"
    }
   ],
   "source": [
    "# calcula a quantidade de amostras estratificadas\n",
    "\n",
    "1000 / len(dados)"
   ]
  },
  {
   "cell_type": "code",
   "execution_count": 70,
   "metadata": {},
   "outputs": [],
   "source": [
    "# Amostragem aleatória simples\n",
    "df_amostra_aleatoria_simples = dados.sample(n = 1000, random_state = 1)  # 1000 registros, random_state = 1(semente aleatória geradora) vai sortear os mesmos registros\n",
    "\n",
    "# uso da função para gerar amostras sistemáticas com 1000 amostras\n",
    "df_amostra_sistematica = amostragem_sistematica(dados, 1000)\n",
    "\n",
    "# uso da função para gerar amostras por grupos com 1000 grupos\n",
    "df_amostra_agrupamento = amostragem_agrupamentos(dados, 1000)\n",
    "\n",
    "# geração de amostras estratificadas\n",
    "df_amostra_estratificada = amostragem_estratificada(dados, 0.5)\n",
    "\n",
    "# uso da função para gerar amostras de reservatório com 1000 amostras\n",
    "df_amostragem_reservatorio = amostragem_reservatorio(dados, 1000)\n"
   ]
  },
  {
   "cell_type": "code",
   "execution_count": 71,
   "metadata": {},
   "outputs": [],
   "source": [
    "# comparativo dos resultados "
   ]
  },
  {
   "cell_type": "code",
   "execution_count": 72,
   "metadata": {},
   "outputs": [],
   "source": [
    "amostras = {'media geral': dados.mean(),\n",
    "            'amostra simples': df_amostra_aleatoria_simples.mean(),\n",
    "            'amostra sistematica': df_amostra_sistematica.mean(),\n",
    "            'amostra agrupamento': df_amostra_agrupamento.mean(),\n",
    "            'amostra estratificada': df_amostra_estratificada.mean(),\n",
    "            'amostra reservatório': df_amostragem_reservatorio.mean()}"
   ]
  },
  {
   "cell_type": "code",
   "execution_count": 73,
   "metadata": {},
   "outputs": [
    {
     "name": "stdout",
     "output_type": "stream",
     "text": [
      "Média idade : 40.80755937840458 \n",
      "Média loan : 4444.369694688262 \n",
      "Média renda : 45331.60001779333\n"
     ]
    }
   ],
   "source": [
    "# média da variavel age(idade), loan, icome(renda) em todos os registros\n",
    "\n",
    "print('Média idade :', dados['age'].mean(), '\\nMédia loan :',dados['loan'].mean(), '\\nMédia renda :', dados['income'].mean())"
   ]
  },
  {
   "cell_type": "code",
   "execution_count": 74,
   "metadata": {},
   "outputs": [
    {
     "name": "stdout",
     "output_type": "stream",
     "text": [
      "Média idade : 40.49552561124429 \n",
      "Média loan : 4449.4469004423645 \n",
      "Média renda : 45563.26865376901\n"
     ]
    }
   ],
   "source": [
    "# média da variavel age(idade), loan, icome(renda) usando a amostra simples\n",
    "\n",
    "print('Média idade :', df_amostra_aleatoria_simples['age'].mean(), '\\nMédia loan :',df_amostra_aleatoria_simples['loan'].mean(), '\\nMédia renda :', df_amostra_aleatoria_simples['income'].mean())"
   ]
  },
  {
   "cell_type": "code",
   "execution_count": 75,
   "metadata": {},
   "outputs": [
    {
     "name": "stdout",
     "output_type": "stream",
     "text": [
      "Média idade : 40.91117381141754 \n",
      "Média loan : 4506.787976426329 \n",
      "Média renda : 45691.49875066951\n"
     ]
    }
   ],
   "source": [
    "# média da variavel age(idade), loan, icome(renda) usando a amostra sistematica\n",
    "\n",
    "print('Média idade :', df_amostra_sistematica['age'].mean(), '\\nMédia loan :',df_amostra_sistematica['loan'].mean(), '\\nMédia renda :', df_amostra_sistematica['income'].mean())"
   ]
  },
  {
   "cell_type": "code",
   "execution_count": 76,
   "metadata": {},
   "outputs": [
    {
     "name": "stdout",
     "output_type": "stream",
     "text": [
      "Média idade : 43.83142139948904 \n",
      "Média loan : 4846.595734472186 \n",
      "Média renda : 39520.903173058\n"
     ]
    }
   ],
   "source": [
    "# média da variavel age(idade), loan, icome(renda) usando a amostra por agrupamento\n",
    "\n",
    "print('Média idade :', df_amostra_agrupamento['age'].mean(), '\\nMédia loan :',df_amostra_agrupamento['loan'].mean(), '\\nMédia renda :', df_amostra_agrupamento['income'].mean())"
   ]
  },
  {
   "cell_type": "code",
   "execution_count": 77,
   "metadata": {},
   "outputs": [
    {
     "name": "stdout",
     "output_type": "stream",
     "text": [
      "Média idade : 40.53363707173919 \n",
      "Média loan : 4423.744651094196 \n",
      "Média renda : 45101.36675026739\n"
     ]
    }
   ],
   "source": [
    "# média da variavel age(idade), loan, icome(renda) usando a amostra estratificada\n",
    "\n",
    "print('Média idade :', df_amostra_estratificada['age'].mean(), '\\nMédia loan :',df_amostra_estratificada['loan'].mean(), '\\nMédia renda :', df_amostra_estratificada['income'].mean())"
   ]
  },
  {
   "cell_type": "code",
   "execution_count": 78,
   "metadata": {},
   "outputs": [
    {
     "name": "stdout",
     "output_type": "stream",
     "text": [
      "Média idade : 40.57203708208336 \n",
      "Média loan : 4429.634971370371 \n",
      "Média renda : 45111.19429734541\n"
     ]
    }
   ],
   "source": [
    "# média da variavel age(idade), loan, icome(renda) usando a amostra por reservatório\n",
    "\n",
    "print('Média idade :', df_amostragem_reservatorio['age'].mean(), '\\nMédia loan :',df_amostragem_reservatorio['loan'].mean(), '\\nMédia renda :', df_amostragem_reservatorio['income'].mean())"
   ]
  },
  {
   "cell_type": "code",
   "execution_count": 79,
   "metadata": {},
   "outputs": [],
   "source": [
    "# criação de um dataframe para armazenar os resultados\n",
    "\n",
    "resultados = pd.DataFrame(amostras)\n",
    "resultados = resultados.T                    # transposição do dataframe"
   ]
  },
  {
   "cell_type": "code",
   "execution_count": 91,
   "metadata": {},
   "outputs": [
    {
     "data": {
      "image/png": "[encoded data removed]",
      "text/plain": [
       "<Figure size 432x288 with 1 Axes>"
      ]
     },
     "metadata": {
      "needs_background": "light"
     },
     "output_type": "display_data"
    }
   ],
   "source": [
    "# visualização dos resultados graficamente idade\n",
    "# uso de linha vermelha para mostrar a média geral da variável loan\n",
    "\n",
    "resultados['age'].plot(kind='barh'),\n",
    "plt.axvline(x = dados['age'].mean(), color = \"red\")\n",
    "plt.title('Média da idade')\n",
    "plt.show()"
   ]
  },
  {
   "cell_type": "code",
   "execution_count": 92,
   "metadata": {},
   "outputs": [
    {
     "data": {
      "image/png": "[encoded data removed]",
      "text/plain": [
       "<Figure size 432x288 with 1 Axes>"
      ]
     },
     "metadata": {
      "needs_background": "light"
     },
     "output_type": "display_data"
    }
   ],
   "source": [
    "# visualização dos resultados graficamente income\n",
    "# uso de linha vermelha para mostrar a média geral da variável loan\n",
    "\n",
    "resultados['income'].plot(kind='barh')\n",
    "plt.axvline(x = dados['income'].mean(), color = \"red\")\n",
    "plt.title('Média da renda')\n",
    "plt.show()"
   ]
  },
  {
   "cell_type": "code",
   "execution_count": 93,
   "metadata": {},
   "outputs": [
    {
     "data": {
      "image/png": "[encoded data removed]",
      "text/plain": [
       "<Figure size 432x288 with 1 Axes>"
      ]
     },
     "metadata": {
      "needs_background": "light"
     },
     "output_type": "display_data"
    }
   ],
   "source": [
    "# visualização dos resultados graficamente loan\n",
    "# uso de linha vermelha para mostrar a média geral da variável loan\n",
    "\n",
    "resultados['loan'].plot(kind='barh')\n",
    "plt.axvline(x = dados['loan'].mean(), color = \"red\")\n",
    "plt.title('Média de loan')\n",
    "plt.show()"
   ]
  }
 ],
 "metadata": {
  "interpreter": {
   "hash": "b3ba2566441a7c06988d0923437866b63cedc61552a5af99d1f4fb67d367b25f"
  },
  "kernelspec": {
   "display_name": "Python 3.8.8 ('base')",
   "language": "python",
   "name": "python3"
  },
  "language_info": {
   "codemirror_mode": {
    "name": "ipython",
    "version": 3
   },
   "file_extension": ".py",
   "mimetype": "text/x-python",
   "name": "python",
   "nbconvert_exporter": "python",
   "pygments_lexer": "ipython3",
   "version": "3.8.8"
  },
  "orig_nbformat": 4
 },
 "nbformat": 4,
 "nbformat_minor": 2
}
