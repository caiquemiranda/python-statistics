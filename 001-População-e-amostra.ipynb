{
 "cells": [
  {
   "cell_type": "code",
   "execution_count": null,
   "metadata": {},
   "outputs": [],
   "source": [
    "# Importação das bibliotecas para analise de dados\n",
    "\n",
    "import pandas as pd       # Analise e tratamento de dados\n",
    "import numpy as np        # Tratamento de dados numéricos\n",
    "import random             # Gerador de números aleatórios"
   ]
  },
  {
   "cell_type": "code",
   "execution_count": null,
   "metadata": {},
   "outputs": [],
   "source": [
    "# Carregamento da base de dados em uma variável\n",
    "\n",
    "dados = pd.read_csv('./data/census.csv')\n",
    "# 'census.csv' é um arquivo com alguns dados do census dos estados unidos"
   ]
  },
  {
   "cell_type": "code",
   "execution_count": null,
   "metadata": {},
   "outputs": [],
   "source": [
    "# Visualização da quantidade de registros\n",
    "\n",
    "dados.shape"
   ]
  },
  {
   "cell_type": "code",
   "execution_count": null,
   "metadata": {},
   "outputs": [],
   "source": [
    "# Visualização dos primeiros registros do dataframe\n",
    "\n",
    "dados.head()"
   ]
  },
  {
   "cell_type": "code",
   "execution_count": null,
   "metadata": {},
   "outputs": [],
   "source": [
    "# Visualização dos últimos registros do dataframe\n",
    "\n",
    "dados.tail()"
   ]
  },
  {
   "cell_type": "code",
   "execution_count": null,
   "metadata": {},
   "outputs": [],
   "source": [
    "# Amostragem aleatória simples\n",
    "df_amostra_aleatoria_simples = dados.sample(n = 100, random_state = 1)  # 100 registros, random_state = 1(semente aleatória geradora) vai sortear os mesmos registros\n",
    "\n",
    "# Visualização da amostra aleatória simples\n",
    "print(df_amostra_aleatoria_simples.shape)   # tamanho da amostra\n",
    "df_amostra_aleatoria_simples.head()         # primeiros registros"
   ]
  },
  {
   "cell_type": "code",
   "execution_count": null,
   "metadata": {},
   "outputs": [],
   "source": [
    "# Amostrgem sistemática"
   ]
  },
  {
   "cell_type": "code",
   "execution_count": null,
   "metadata": {},
   "outputs": [],
   "source": [
    "# quantidade de registros\n",
    "\n",
    "dados.shape"
   ]
  },
  {
   "cell_type": "code",
   "execution_count": null,
   "metadata": {},
   "outputs": [],
   "source": [
    "# Amostragem sistemática com n = 100 registros\n",
    "\n",
    "len(dados) // 100"
   ]
  },
  {
   "cell_type": "code",
   "execution_count": null,
   "metadata": {},
   "outputs": [],
   "source": [
    "# Seleção de registros aleatórios com espaço de 325 registros\n",
    "# 0 -> 325 ; 325 -> 675 ; 675 -> 1050 ; 1050 -> 1375 ; 1375 -> 1700 ; 1700 -> 2025...\n",
    "\n",
    "random.seed(1)           # Semente aleatória\n",
    "random.randint(0, 325)   # sorteia um número aleatório entre 0 e 325"
   ]
  },
  {
   "cell_type": "code",
   "execution_count": null,
   "metadata": {},
   "outputs": [],
   "source": [
    "# geração de amostras aleatórios com espaço de 325 registros\n",
    "\n",
    "np.arange(68, len(dados), step=325)   # geração de números aleatórios com espaço de 325 registros"
   ]
  },
  {
   "cell_type": "code",
   "execution_count": null,
   "metadata": {},
   "outputs": [],
   "source": [
    "# função para gerar amostras sistemáticas com espaço de (quantidade de registros/ quantidade de amostras)\n",
    "\n",
    "def amostragem_sistematica(dados, amostras):\n",
    "    intervalo = len(dados) // amostras                              # calcula o tamanho do intervalo\n",
    "    random.seed(1)                                                  # semente aleatória\n",
    "    inicio = random.randint(0, intervalo)                           # sorteia um número aleatório entre 0 e o tamanho do intervalo   \n",
    "    indices = np.arange(inicio, len(dados), step = intervalo)       # geração de números aleatórios que serão os índices dos registros\n",
    "    amostra_sistematica = dados.iloc[indices]                    # seleção dos registros com base nos índices\n",
    "\n",
    "    return amostra_sistematica                                   # retorna a amostra"
   ]
  },
  {
   "cell_type": "code",
   "execution_count": null,
   "metadata": {},
   "outputs": [],
   "source": [
    "# uso da função para gerar amostras sistemáticas com 100 amostras\n",
    "df_amostra_sistematica = amostragem_sistematica(dados, 100)\n",
    "\n",
    "# Visualização da quantidade de registos amostra sistemática\n",
    "df_amostra_sistematica.shape"
   ]
  },
  {
   "cell_type": "code",
   "execution_count": null,
   "metadata": {},
   "outputs": [],
   "source": [
    "# visualização dos primeiros registros da amostra sistemática\n",
    "\n",
    "df_amostra_sistematica.head()"
   ]
  },
  {
   "cell_type": "code",
   "execution_count": null,
   "metadata": {},
   "outputs": [],
   "source": [
    "# Amostragem por grupos"
   ]
  },
  {
   "cell_type": "code",
   "execution_count": null,
   "metadata": {},
   "outputs": [],
   "source": [
    "# quantidade de registros por grupo\n",
    "\n",
    "len(dados) // 10"
   ]
  },
  {
   "cell_type": "code",
   "execution_count": null,
   "metadata": {},
   "outputs": [],
   "source": [
    "# algoritmo para gerar amostras por grupos\n",
    "\n",
    "grupos = []                                   # lista vazia                      \n",
    "id_grupo = 0                                  # variavel auxiliar id do grupo\n",
    "contagem = 0                                  # variavel auxiliar contador de registros\n",
    "for _ in dados.iterrows():                    # iteração sobre os registros da base de dados   \n",
    "    grupos.append(id_grupo)                   # adiciona o id do grupo\n",
    "    contagem += 1                             # incrementa a contagem +1\n",
    "    if contagem > len(dados) // 10:           # se a contagem for maior que a divisão da quantidade de registros por 10\n",
    "        contagem = 0                          # zera a contagem para o próximo grupo\n",
    "        id_grupo += 1                         # incrementa o id do grupo +1"
   ]
  },
  {
   "cell_type": "code",
   "execution_count": null,
   "metadata": {},
   "outputs": [],
   "source": [
    "# visualização dos grupos\n",
    "\n",
    "print(grupos)                               # grupos de 0 a 9"
   ]
  },
  {
   "cell_type": "code",
   "execution_count": null,
   "metadata": {},
   "outputs": [],
   "source": [
    "# verificação da quantidade de registros por grupo\n",
    "\n",
    "np.unique(grupos, return_counts=True)                       "
   ]
  },
  {
   "cell_type": "code",
   "execution_count": null,
   "metadata": {},
   "outputs": [],
   "source": [
    "# verificação da quantidade de registros por grupo\n",
    "\n",
    "np.shape(grupos), dados.shape"
   ]
  },
  {
   "cell_type": "code",
   "execution_count": null,
   "metadata": {},
   "outputs": [],
   "source": [
    "# concatenando os grupos com os dados\n",
    "\n",
    "dados['grupo'] = grupos"
   ]
  },
  {
   "cell_type": "code",
   "execution_count": null,
   "metadata": {},
   "outputs": [],
   "source": [
    "# visualização dos primeiros registros\n",
    "\n",
    "dados.head()"
   ]
  },
  {
   "cell_type": "code",
   "execution_count": null,
   "metadata": {},
   "outputs": [],
   "source": [
    "# visualização dos últimos registros \n",
    "\n",
    "dados.tail()"
   ]
  },
  {
   "cell_type": "code",
   "execution_count": null,
   "metadata": {},
   "outputs": [],
   "source": [
    "# gerando um valor aleatório entre 0 e 9 para busca pelo grupo\n",
    "\n",
    "random.randint(0, 9)"
   ]
  },
  {
   "cell_type": "code",
   "execution_count": null,
   "metadata": {},
   "outputs": [],
   "source": [
    "# filtro por grupo e valor aleatório\n",
    "\n",
    "df_agrupamento = dados[dados['grupo'] == 4]\n",
    "df_agrupamento"
   ]
  },
  {
   "cell_type": "code",
   "execution_count": null,
   "metadata": {},
   "outputs": [],
   "source": [
    "# quantidade de registros agrupados\n",
    "\n",
    "df_agrupamento['grupo'].value_counts()"
   ]
  },
  {
   "cell_type": "code",
   "execution_count": null,
   "metadata": {},
   "outputs": [],
   "source": [
    "# função para gerar amostras por grupos\n",
    "\n",
    "def amostragem_agrupamentos(dados, n_grupos):\n",
    "    intervalo = len(dados) // n_grupos                  # calcula o tamanho do intervalo\n",
    "\n",
    "    grupos = []                                         # lista vazia                      \n",
    "    id_grupo = 0                                        # variavel auxiliar id do grupo\n",
    "    contagem = 0                                        # variavel auxiliar contador de registros\n",
    "    for _ in dados.iterrows():                          # iteração sobre os registros da base de dados   \n",
    "        grupos.append(id_grupo)                         # adiciona o id do grupo\n",
    "        contagem += 1                                   # incrementa a contagem +1\n",
    "        if contagem > intervalo:                        # se a contagem for maior que a divisão da quantidade de registros por 10\n",
    "            contagem = 0                                # zera a contagem para o próximo grupo\n",
    "            id_grupo += 1                               # incrementa o id do grupo +1\n",
    "\n",
    "    dados['grupo'] = grupos                             # adiciona o grupo ao dataframe\n",
    "    random.seed(1)                                      # semente aleatória\n",
    "    grupo_selecionado = random.randint(0, n_grupos)     # sorteia um número aleatório entre 0 e o número de grupos\n",
    "    return dados[dados['grupo'] == grupo_selecionado]   # retorna os registros do grupo selecionado"
   ]
  },
  {
   "cell_type": "code",
   "execution_count": null,
   "metadata": {},
   "outputs": [],
   "source": [
    "# uso da função para gerar amostras por grupos com 100 grupos\n",
    "df_amostra_agrupamento = amostragem_agrupamentos(dados, 100)\n",
    "\n",
    "# visualização da quantidade de registros agrupados((quantidade de registros), grupo, quantidade de registros no grupo)\n",
    "df_amostra_agrupamento.shape, df_amostra_agrupamento['grupo'].value_counts()"
   ]
  },
  {
   "cell_type": "code",
   "execution_count": null,
   "metadata": {},
   "outputs": [],
   "source": [
    "# visualização dos primeiros registros da amostra agrupamento\n",
    "\n",
    "df_amostra_agrupamento.head()"
   ]
  },
  {
   "cell_type": "code",
   "execution_count": null,
   "metadata": {},
   "outputs": [],
   "source": [
    "# visualização dos ultimos registros da amostra agrupamento\n",
    "\n",
    "df_amostra_agrupamento.tail()"
   ]
  },
  {
   "cell_type": "code",
   "execution_count": null,
   "metadata": {},
   "outputs": [],
   "source": [
    "# Amostra estratificada"
   ]
  },
  {
   "cell_type": "code",
   "execution_count": null,
   "metadata": {},
   "outputs": [],
   "source": [
    "# importação de um modulo para gerar amostras estratificadas\n",
    "\n",
    "from sklearn.model_selection import StratifiedShuffleSplit"
   ]
  },
  {
   "cell_type": "code",
   "execution_count": null,
   "metadata": {},
   "outputs": [],
   "source": [
    "# analise da variável icome(renda) para gerar uma amostra estratificada\n",
    "\n",
    "dados['income'].value_counts('>50K')"
   ]
  },
  {
   "cell_type": "code",
   "execution_count": null,
   "metadata": {},
   "outputs": [],
   "source": [
    "# visualização da variável icome(renda) graficamente\n",
    "\n",
    "dados['income'].value_counts('>50K').plot(kind='bar');"
   ]
  },
  {
   "cell_type": "code",
   "execution_count": null,
   "metadata": {},
   "outputs": [],
   "source": [
    "# criação de um objeto para gerar amostras estratificadas\n",
    "\n",
    "split = StratifiedShuffleSplit(test_size=0.1)             # amostras estratificadas de 10% dos dados\n",
    "for x, y in split.split(dados, dados['income']):          # iteração sobre os dados para gerar as amostras\n",
    "    df_x = dados.iloc[x]                                  # seleção dos registros df_x com o resto dos dados\n",
    "    df_y = dados.iloc[y]                                  # seleção dos registros df_y com a amostra estratificada de 10%"
   ]
  },
  {
   "cell_type": "code",
   "execution_count": null,
   "metadata": {},
   "outputs": [],
   "source": [
    "# tamanho das amostras separadas\n",
    "\n",
    "df_x.shape, df_y.shape"
   ]
  },
  {
   "cell_type": "code",
   "execution_count": null,
   "metadata": {},
   "outputs": [],
   "source": [
    "# geração de apenas 100 amostras estratificadas"
   ]
  },
  {
   "cell_type": "code",
   "execution_count": null,
   "metadata": {},
   "outputs": [],
   "source": [
    "# calcula a quantidade de amostras estratificadas\n",
    "\n",
    "100 / len(dados)"
   ]
  },
  {
   "cell_type": "code",
   "execution_count": null,
   "metadata": {},
   "outputs": [],
   "source": [
    "# criação de um objeto para gerar 100 amostras estratificadas\n",
    "\n",
    "split = StratifiedShuffleSplit(test_size=0.0030711587481956942)             # amostras estratificadas de 100 registros\n",
    "for x, y in split.split(dados, dados['income']):                            # iteração sobre os dados para gerar as amostras\n",
    "    df_x = dados.iloc[x]                                                    # seleção dos registros df_x com o resto dos dados\n",
    "    df_y = dados.iloc[y]                                                    # seleção dos registros df_y com a amostra estratificada de 100 amostras"
   ]
  },
  {
   "cell_type": "code",
   "execution_count": null,
   "metadata": {},
   "outputs": [],
   "source": [
    "# tamanho das amostras separadas\n",
    "\n",
    "df_x.shape, df_y.shape"
   ]
  },
  {
   "cell_type": "code",
   "execution_count": null,
   "metadata": {},
   "outputs": [],
   "source": [
    "df_y.head()"
   ]
  },
  {
   "cell_type": "code",
   "execution_count": null,
   "metadata": {},
   "outputs": [],
   "source": [
    "# verificação da divisão dos dados da variavel income(renda)\n",
    "\n",
    "df_y['income'].value_counts('>50K')"
   ]
  },
  {
   "cell_type": "code",
   "execution_count": null,
   "metadata": {},
   "outputs": [],
   "source": [
    "# criação de uma função para gerar amostras estratificadas\n",
    "\n",
    "def amostragem_estratificada(dados, percentual):\n",
    "  split = StratifiedShuffleSplit(test_size=percentual, random_state=1)\n",
    "  for _, y in split.split(dados, dados['income']):\n",
    "    df_y = dados.iloc[y]\n",
    "  return df_y"
   ]
  },
  {
   "cell_type": "code",
   "execution_count": null,
   "metadata": {},
   "outputs": [],
   "source": [
    "# geração de amostras estratificadas\n",
    "df_amostra_estratificada = amostragem_estratificada(dados, 0.0030711587481956942)\n",
    "\n",
    "# visualização da quantidade de registros por amostra estratificada\n",
    "df_amostra_estratificada.shape"
   ]
  },
  {
   "cell_type": "code",
   "execution_count": null,
   "metadata": {},
   "outputs": [],
   "source": [
    "# Amostragem de reservatório\n",
    "# util para selecionar amostras de dados constantes e continuos no tempo"
   ]
  },
  {
   "cell_type": "code",
   "execution_count": null,
   "metadata": {},
   "outputs": [],
   "source": [
    "# geração de indice para cada registro\n",
    "\n",
    "stream = []                             # inicialização da lista onde ficarão os valores\n",
    "for i in range(len(dados)):             # iteração sobre os registros da base de dados\n",
    "    stream.append(i)                    # adiciona o indice a lista"
   ]
  },
  {
   "cell_type": "code",
   "execution_count": null,
   "metadata": {},
   "outputs": [],
   "source": [
    "# visualização dos indices\n",
    "\n",
    "print(stream)"
   ]
  },
  {
   "cell_type": "code",
   "execution_count": null,
   "metadata": {},
   "outputs": [],
   "source": [
    "# função para gerar amostras de reservatório\n",
    "\n",
    "def amostragem_reservatorio(dados, amostras):\n",
    "    stream = []\n",
    "    for i in range(len(dados)):                              # iteração sobre os registros da base de dados\n",
    "        stream.append(i)                                     # adiciona um indice para cada registro\n",
    "    \n",
    "    i = 0                                                    # variavel auxiliar para o indice\n",
    "    tamanho = len(stream)                                    # variavel tamanho para ter a quantidade de registros\n",
    "\n",
    "    reservatorio = [0] * amostras                            # onde serão armazenados os inidices dos registros sorteados\n",
    "    for i in range(amostras):                                # iteração para gerar os registros sorteados\n",
    "        reservatorio[i] = stream[i]                          # adiciona os inidices dos registros sorteados\n",
    "                                            \n",
    "    while i < tamanho:                                       # iteração para selecionar os registros \n",
    "        j = random.randrange(i + 1)                          # sorteia um número aleatório entre i + 1\n",
    "        if j < amostras:\n",
    "            reservatorio[j] = stream[i]                      # onde ficarão armazenados oa valores sorteados\n",
    "        i += 1                                               # incrementa o contador\n",
    "    \n",
    "    return dados.iloc[reservatorio]                          # retorna os registros sorteados pelo algoritmo de amostragem de reservatório                                    "
   ]
  },
  {
   "cell_type": "code",
   "execution_count": null,
   "metadata": {},
   "outputs": [],
   "source": [
    "# uso da função para gerar amostras de reservatório com 100 amostras\n",
    "df_amostragem_reservatorio = amostragem_reservatorio(dados, 100)\n",
    "\n",
    "# visualização da quantidade de registros sorteados\n",
    "df_amostragem_reservatorio.shape"
   ]
  },
  {
   "cell_type": "code",
   "execution_count": null,
   "metadata": {},
   "outputs": [],
   "source": [
    "# visualização dos primeiros registros da amostra reservatorio\n",
    "df_amostragem_reservatorio.head()"
   ]
  },
  {
   "cell_type": "code",
   "execution_count": null,
   "metadata": {},
   "outputs": [],
   "source": [
    "# comparativo dos resultados "
   ]
  },
  {
   "cell_type": "code",
   "execution_count": null,
   "metadata": {},
   "outputs": [],
   "source": [
    "amostras = {'media geral': dados.mean(),\n",
    "            'amostra simples': df_amostra_aleatoria_simples.mean(),\n",
    "            'amostra sistematica': df_amostra_sistematica.mean(),\n",
    "            'amostra agrupamento': df_amostra_agrupamento.mean(),\n",
    "            'amostra estratificada': df_amostra_estratificada.mean(),\n",
    "            'amostra reservatório': df_amostragem_reservatorio.mean()}"
   ]
  },
  {
   "cell_type": "code",
   "execution_count": null,
   "metadata": {},
   "outputs": [],
   "source": [
    "# média da variavel age(idade) em todos os registros\n",
    "\n",
    "dados['age'].mean()"
   ]
  },
  {
   "cell_type": "code",
   "execution_count": null,
   "metadata": {},
   "outputs": [],
   "source": [
    "# média da variavel age(idade) usando a amostra simples\n",
    "\n",
    "df_amostra_aleatoria_simples['age'].mean()"
   ]
  },
  {
   "cell_type": "code",
   "execution_count": null,
   "metadata": {},
   "outputs": [],
   "source": [
    "# média da variavel age(idade) usando a amostra sistematica\n",
    "\n",
    "df_amostra_sistematica['age'].mean()"
   ]
  },
  {
   "cell_type": "code",
   "execution_count": null,
   "metadata": {},
   "outputs": [],
   "source": [
    "# média da variavel age(idade) usando a amostra por agrupamento\n",
    "\n",
    "df_amostra_agrupamento['age'].mean()"
   ]
  },
  {
   "cell_type": "code",
   "execution_count": null,
   "metadata": {},
   "outputs": [],
   "source": [
    "# média da variavel age(idade) usando a amostra estratificada\n",
    "\n",
    "df_amostra_estratificada['age'].mean()"
   ]
  },
  {
   "cell_type": "code",
   "execution_count": null,
   "metadata": {},
   "outputs": [],
   "source": [
    "# média da variavel age(idade) usando a amostra por reservatório\n",
    "\n",
    "df_amostragem_reservatorio['age'].mean()"
   ]
  },
  {
   "cell_type": "code",
   "execution_count": null,
   "metadata": {},
   "outputs": [],
   "source": [
    "# criação de um dataframe para armazenar os resultados\n",
    "\n",
    "resultados = pd.DataFrame(amostras)\n",
    "resultados = resultados.T                    # transposição do dataframe"
   ]
  },
  {
   "cell_type": "code",
   "execution_count": null,
   "metadata": {},
   "outputs": [],
   "source": [
    "# visualização dos resultados graficamente\n",
    "\n",
    "resultados['age'].plot(kind='barh');"
   ]
  }
 ],
 "metadata": {
  "interpreter": {
   "hash": "b3ba2566441a7c06988d0923437866b63cedc61552a5af99d1f4fb67d367b25f"
  },
  "kernelspec": {
   "display_name": "Python 3.8.8 ('base')",
   "language": "python",
   "name": "python3"
  },
  "language_info": {
   "codemirror_mode": {
    "name": "ipython",
    "version": 3
   },
   "file_extension": ".py",
   "mimetype": "text/x-python",
   "name": "python",
   "nbconvert_exporter": "python",
   "pygments_lexer": "ipython3",
   "version": "3.8.8"
  },
  "orig_nbformat": 4
 },
 "nbformat": 4,
 "nbformat_minor": 2
}
